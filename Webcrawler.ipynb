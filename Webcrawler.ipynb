{
 "cells": [
  {
   "cell_type": "code",
   "execution_count": 13,
   "id": "542a1dda-c1a5-4930-8edf-a21800db6988",
   "metadata": {},
   "outputs": [
    {
     "name": "stdout",
     "output_type": "stream",
     "text": [
      "Requirement already satisfied: requests in c:\\users\\singh\\anaconda3\\lib\\site-packages (2.32.3)\n",
      "Requirement already satisfied: beautifulsoup4 in c:\\users\\singh\\anaconda3\\lib\\site-packages (4.12.3)\n",
      "Requirement already satisfied: pandas in c:\\users\\singh\\anaconda3\\lib\\site-packages (2.2.2)\n",
      "Requirement already satisfied: charset-normalizer<4,>=2 in c:\\users\\singh\\anaconda3\\lib\\site-packages (from requests) (3.3.2)\n",
      "Requirement already satisfied: idna<4,>=2.5 in c:\\users\\singh\\anaconda3\\lib\\site-packages (from requests) (3.7)\n",
      "Requirement already satisfied: urllib3<3,>=1.21.1 in c:\\users\\singh\\anaconda3\\lib\\site-packages (from requests) (2.2.3)\n",
      "Requirement already satisfied: certifi>=2017.4.17 in c:\\users\\singh\\anaconda3\\lib\\site-packages (from requests) (2024.8.30)\n",
      "Requirement already satisfied: soupsieve>1.2 in c:\\users\\singh\\anaconda3\\lib\\site-packages (from beautifulsoup4) (2.5)\n",
      "Requirement already satisfied: numpy>=1.26.0 in c:\\users\\singh\\anaconda3\\lib\\site-packages (from pandas) (1.26.4)\n",
      "Requirement already satisfied: python-dateutil>=2.8.2 in c:\\users\\singh\\anaconda3\\lib\\site-packages (from pandas) (2.9.0.post0)\n",
      "Requirement already satisfied: pytz>=2020.1 in c:\\users\\singh\\anaconda3\\lib\\site-packages (from pandas) (2024.1)\n",
      "Requirement already satisfied: tzdata>=2022.7 in c:\\users\\singh\\anaconda3\\lib\\site-packages (from pandas) (2023.3)\n",
      "Requirement already satisfied: six>=1.5 in c:\\users\\singh\\anaconda3\\lib\\site-packages (from python-dateutil>=2.8.2->pandas) (1.16.0)\n"
     ]
    }
   ],
   "source": [
    "!pip install requests beautifulsoup4 pandas\n"
   ]
  },
  {
   "cell_type": "code",
   "execution_count": 14,
   "id": "49fa726c-bc82-4927-a52f-059b3a524015",
   "metadata": {},
   "outputs": [],
   "source": [
    "import requests\n",
    "from bs4 import BeautifulSoup\n",
    "import pandas as pd\n",
    "from urllib.parse import urljoin\n"
   ]
  },
  {
   "cell_type": "code",
   "execution_count": 15,
   "id": "c8a58d69-e8a4-4b7e-9530-b4595204dd92",
   "metadata": {},
   "outputs": [],
   "source": [
    "base_url = \"https://www.th-bingen.de/\" \n",
    "relevant_keywords = [\"admissions\", \"students\", \"courses\", \"programs\"]  # Define keywords\n"
   ]
  },
  {
   "cell_type": "code",
   "execution_count": 16,
   "id": "f2fbf7f0-eb30-4741-b503-5df4f8994e01",
   "metadata": {},
   "outputs": [],
   "source": [
    "def fetch_page(url):\n",
    "    try:\n",
    "        response = requests.get(url)\n",
    "        response.raise_for_status()  # Raise an error for bad responses (4xx/5xx)\n",
    "        return BeautifulSoup(response.text, \"html.parser\")\n",
    "    except requests.exceptions.RequestException as e:\n",
    "        print(f\"Error fetching {url}: {e}\")\n",
    "        return None\n"
   ]
  },
  {
   "cell_type": "code",
   "execution_count": 17,
   "id": "e28d4c02-210c-4491-91d1-4b22ada31797",
   "metadata": {},
   "outputs": [],
   "source": [
    "def extract_links(soup, base_url, relevant_keywords):\n",
    "    links = []\n",
    "    for a_tag in soup.find_all(\"a\", href=True):  # Find all <a> tags with href attributes\n",
    "        full_url = urljoin(base_url, a_tag[\"href\"])\n",
    "        if any(keyword in full_url for keyword in relevant_keywords):  # Check relevance\n",
    "            links.append(full_url)\n",
    "    return list(set(links))  # Remove duplicates\n"
   ]
  },
  {
   "cell_type": "code",
   "execution_count": 18,
   "id": "0d875d02-cab2-4c84-bda8-90ebeb5c7c30",
   "metadata": {},
   "outputs": [],
   "source": [
    "def crawl_website(start_url, relevant_keywords, max_depth=2):\n",
    "    visited = set()  # Track visited URLs to avoid loops\n",
    "    to_visit = [(start_url, 0)]  # URL and depth\n",
    "    crawled_data = []  # Store data\n",
    "\n",
    "    while to_visit:\n",
    "        current_url, depth = to_visit.pop()\n",
    "        if current_url in visited or depth > max_depth:\n",
    "            continue\n",
    "\n",
    "        visited.add(current_url)\n",
    "        print(f\"Crawling: {current_url} (Depth: {depth})\")\n",
    "        soup = fetch_page(current_url)\n",
    "        if not soup:\n",
    "            continue\n",
    "\n",
    "        # Extract links\n",
    "        links = extract_links(soup, start_url, relevant_keywords)\n",
    "        to_visit.extend((link, depth + 1) for link in links)\n",
    "\n",
    "        # Extract content\n",
    "        title = soup.title.string if soup.title else \"No title\"\n",
    "        content = \" \".join(p.get_text() for p in soup.find_all(\"p\"))\n",
    "        crawled_data.append({\"url\": current_url, \"title\": title, \"content\": content.strip()})\n",
    "\n",
    "    return pd.DataFrame(crawled_data)  \n"
   ]
  },
  {
   "cell_type": "code",
   "execution_count": 19,
   "id": "847bc74e-a6aa-4548-ae8f-56b40e0a83a7",
   "metadata": {},
   "outputs": [
    {
     "name": "stdout",
     "output_type": "stream",
     "text": [
      "Crawling: https://www.th-bingen.de/ (Depth: 0)\n",
      "Crawling: https://www.th-bingen.de/en/studies/courses/informatik-computer-science/overview (Depth: 1)\n",
      "Crawling: https://www.th-bingen.de/en/studies/courses/environmental-sustainability/requirements (Depth: 2)\n",
      "Crawling: https://www.th-bingen.de/en/studies/courses/environmental-sustainability/team (Depth: 2)\n",
      "Crawling: https://www.th-bingen.de/en/studies/courses/informatik-computer-science/requirements (Depth: 2)\n",
      "Crawling: https://www.th-bingen.de/en/studies/courses/environmental-sustainability/documents (Depth: 2)\n",
      "Crawling: https://www.th-bingen.de/en/studies/courses (Depth: 2)\n",
      "Crawling: https://www.th-bingen.de/en/studies/courses/environmental-sustainability/course-structure (Depth: 2)\n",
      "Crawling: https://www.th-bingen.de/en/studies/courses/environmental-sustainability/overview (Depth: 2)\n",
      "Crawling: https://www.th-bingen.de/en/studies/courses/informatik-computer-science/course-structure (Depth: 2)\n",
      "Crawling: https://www.th-bingen.de/en/how-to-apply/exchange-students (Depth: 2)\n",
      "Crawling: https://www.th-bingen.de/en/studies/courses/informatik-computer-science/team (Depth: 2)\n",
      "Crawling: https://www.th-bingen.de/en/studies/courses/informatik-computer-science/documents (Depth: 2)\n"
     ]
    },
    {
     "data": {
      "text/html": [
       "<div>\n",
       "<style scoped>\n",
       "    .dataframe tbody tr th:only-of-type {\n",
       "        vertical-align: middle;\n",
       "    }\n",
       "\n",
       "    .dataframe tbody tr th {\n",
       "        vertical-align: top;\n",
       "    }\n",
       "\n",
       "    .dataframe thead th {\n",
       "        text-align: right;\n",
       "    }\n",
       "</style>\n",
       "<table border=\"1\" class=\"dataframe\">\n",
       "  <thead>\n",
       "    <tr style=\"text-align: right;\">\n",
       "      <th></th>\n",
       "      <th>url</th>\n",
       "      <th>title</th>\n",
       "      <th>content</th>\n",
       "    </tr>\n",
       "  </thead>\n",
       "  <tbody>\n",
       "    <tr>\n",
       "      <th>0</th>\n",
       "      <td>https://www.th-bingen.de/</td>\n",
       "      <td>Technische Hochschule (TH) Bingen - Willkommen</td>\n",
       "      <td>Seit 1897 bildet die Technische Hochschule Bin...</td>\n",
       "    </tr>\n",
       "    <tr>\n",
       "      <th>1</th>\n",
       "      <td>https://www.th-bingen.de/en/studies/courses/in...</td>\n",
       "      <td>Technische Hochschule Bingen: Überblick Inform...</td>\n",
       "      <td>Informatik / Computer Science, M. Sc.\\n Comput...</td>\n",
       "    </tr>\n",
       "    <tr>\n",
       "      <th>2</th>\n",
       "      <td>https://www.th-bingen.de/en/studies/courses/en...</td>\n",
       "      <td>Technische Hochschule Bingen: Voraussetzungen ...</td>\n",
       "      <td>Expecting an affinity for environmental protec...</td>\n",
       "    </tr>\n",
       "    <tr>\n",
       "      <th>3</th>\n",
       "      <td>https://www.th-bingen.de/en/studies/courses/en...</td>\n",
       "      <td>Technische Hochschule Bingen: Team Umweltschutz</td>\n",
       "      <td>We stand for excellent education and applied r...</td>\n",
       "    </tr>\n",
       "    <tr>\n",
       "      <th>4</th>\n",
       "      <td>https://www.th-bingen.de/en/studies/courses/in...</td>\n",
       "      <td>Technische Hochschule Bingen: Voraussetzungen ...</td>\n",
       "      <td>Degree:\\n The admission requirements for the M...</td>\n",
       "    </tr>\n",
       "  </tbody>\n",
       "</table>\n",
       "</div>"
      ],
      "text/plain": [
       "                                                 url  \\\n",
       "0                          https://www.th-bingen.de/   \n",
       "1  https://www.th-bingen.de/en/studies/courses/in...   \n",
       "2  https://www.th-bingen.de/en/studies/courses/en...   \n",
       "3  https://www.th-bingen.de/en/studies/courses/en...   \n",
       "4  https://www.th-bingen.de/en/studies/courses/in...   \n",
       "\n",
       "                                               title  \\\n",
       "0     Technische Hochschule (TH) Bingen - Willkommen   \n",
       "1  Technische Hochschule Bingen: Überblick Inform...   \n",
       "2  Technische Hochschule Bingen: Voraussetzungen ...   \n",
       "3    Technische Hochschule Bingen: Team Umweltschutz   \n",
       "4  Technische Hochschule Bingen: Voraussetzungen ...   \n",
       "\n",
       "                                             content  \n",
       "0  Seit 1897 bildet die Technische Hochschule Bin...  \n",
       "1  Informatik / Computer Science, M. Sc.\\n Comput...  \n",
       "2  Expecting an affinity for environmental protec...  \n",
       "3  We stand for excellent education and applied r...  \n",
       "4  Degree:\\n The admission requirements for the M...  "
      ]
     },
     "execution_count": 19,
     "metadata": {},
     "output_type": "execute_result"
    }
   ],
   "source": [
    "data = crawl_website(base_url, relevant_keywords, max_depth=2)\n",
    "data.head()  # Display the first few rows\n"
   ]
  },
  {
   "cell_type": "code",
   "execution_count": 20,
   "id": "52315aba-2d01-4b98-ac92-e05a0847901b",
   "metadata": {},
   "outputs": [],
   "source": [
    "data.to_csv(\"crawled_data.csv\", index=False)\n"
   ]
  },
  {
   "cell_type": "code",
   "execution_count": null,
   "id": "175af07f-38ed-46f8-8c7c-940483dc49d6",
   "metadata": {},
   "outputs": [],
   "source": []
  }
 ],
 "metadata": {
  "kernelspec": {
   "display_name": "Python 3 (ipykernel)",
   "language": "python",
   "name": "python3"
  },
  "language_info": {
   "codemirror_mode": {
    "name": "ipython",
    "version": 3
   },
   "file_extension": ".py",
   "mimetype": "text/x-python",
   "name": "python",
   "nbconvert_exporter": "python",
   "pygments_lexer": "ipython3",
   "version": "3.12.7"
  }
 },
 "nbformat": 4,
 "nbformat_minor": 5
}
