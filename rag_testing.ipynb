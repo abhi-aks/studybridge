{
 "cells": [
  {
   "cell_type": "code",
   "execution_count": null,
   "metadata": {},
   "outputs": [],
   "source": [
    "from query_data import query_rag\n",
    "from langchain_community.llms.ollama import Ollama"
   ]
  },
  {
   "cell_type": "code",
   "execution_count": 13,
   "metadata": {},
   "outputs": [],
   "source": [
    "def test_1_Prices_and_Amenities_of_Dormitories():\n",
    "    assert query_and_validate(\n",
    "        question = \"What is the monthly rent for an apartment in Inter 2 for a wheelchair user? \",\n",
    "        expected_response= \"The monthly rent for a wheelchair-accessible apartment in Inter 2 is €564. \"\n",
    "    )"
   ]
  },
  {
   "cell_type": "code",
   "execution_count": 14,
   "metadata": {},
   "outputs": [],
   "source": [
    "def test_2_Prices_and_Amenities_of_Dormitories():\n",
    "    assert query_and_validate(\n",
    "        question = \"How far is Münchfeld dormitory from the university campus? \",\n",
    "        expected_response= \"Münchfeld dormitory is approximately a 7-minute walk from the university campus. \"\n",
    "    )"
   ]
  },
  {
   "cell_type": "code",
   "execution_count": 15,
   "metadata": {},
   "outputs": [],
   "source": [
    "def test_3_Prices_and_Amenities_of_Dormitories():\n",
    "    assert query_and_validate(\n",
    "        question = \"What is the size of a family apartment in Inter 2, and its cost? \",\n",
    "        expected_response= \"A family apartment in Inter 2 is approximately 40 m² and costs €714. \"\n",
    "    )"
   ]
  },
  {
   "cell_type": "code",
   "execution_count": 16,
   "metadata": {},
   "outputs": [],
   "source": [
    "def test_4_Prices_and_Amenities_of_Dormitories():\n",
    "    assert query_and_validate(\n",
    "        question = \"What is the cost of a 3-person shared apartment in Hechtsheim? \",\n",
    "        expected_response= \" A 3-person shared apartment in Hechtsheim costs €318 per month.\"\n",
    "    )"
   ]
  },
  {
   "cell_type": "code",
   "execution_count": 17,
   "metadata": {},
   "outputs": [],
   "source": [
    "def test_Prices_and_Amenities_of_Dormitories():\n",
    "    assert  not query_and_validate(\n",
    "        question = \"What is the cost of a 3-person shared apartment in Hechtsheim? \",\n",
    "        expected_response= \" A 3-person shared apartment in Hechtsheim costs €418 per month.\"\n",
    "    )"
   ]
  },
  {
   "cell_type": "code",
   "execution_count": 18,
   "metadata": {},
   "outputs": [],
   "source": [
    "def test_5_Prices_and_Amenities_of_Dormitories():\n",
    "    assert query_and_validate(\n",
    "        question = \"What is the rent range for a 4-person WG with a balcony in K3? \",\n",
    "        expected_response= \"The rent for a 4-person WG with a balcony in K3 ranges from €413 to €423. \"\n",
    "    )"
   ]
  },
  {
   "cell_type": "code",
   "execution_count": 19,
   "metadata": {},
   "outputs": [],
   "source": [
    "def test_6_Prices_and_Amenities_of_Dormitories():\n",
    "    assert query_and_validate(\n",
    "        question = \"How many student dormitory places are there in total? \",\n",
    "        expected_response= \" There are a total of 4,009 student dormitory places.\"\n",
    "    )"
   ]
  },
  {
   "cell_type": "code",
   "execution_count": 20,
   "metadata": {},
   "outputs": [],
   "source": [
    "def test_7_Prices_and_Amenities_of_Dormitories():\n",
    "    assert query_and_validate(\n",
    "        question = \"What additional amenities are included in all dormitories? \",\n",
    "        expected_response= \"All dormitories include parking spaces, bike storage, washing machines, dryers, and communal areas. \"\n",
    "    )"
   ]
  },
  {
   "cell_type": "code",
   "execution_count": 21,
   "metadata": {},
   "outputs": [],
   "source": [
    "def test_8_Prices_and_Amenities_of_Dormitories():\n",
    "    assert query_and_validate(\n",
    "        question = \"What is the rent for an apartment in Wallstraße of 25 m²? \",\n",
    "        expected_response= \" The rent for a 25 m² apartment in Wallstraße is €399.\"\n",
    "    )"
   ]
  },
  {
   "cell_type": "code",
   "execution_count": 22,
   "metadata": {},
   "outputs": [],
   "source": [
    "def test_9_Prices_and_Amenities_of_Dormitories():\n",
    "    assert query_and_validate(\n",
    "        question = \" How much does it cost to rent a pair apartment in Weisenau? \",\n",
    "        expected_response= \"A pair apartment in Weisenau costs €594 (€297 per person). \"\n",
    "    )"
   ]
  },
  {
   "cell_type": "code",
   "execution_count": 23,
   "metadata": {},
   "outputs": [],
   "source": [
    "def test_10_Prices_and_Amenities_of_Dormitories():\n",
    "    assert query_and_validate(\n",
    "        question = \"What do students need to bring with them when moving into dormitories? \",\n",
    "        expected_response= \"Students need to bring bed linens, towels, kitchen utensils, and cooking pots. \"\n",
    "    )"
   ]
  },
  {
   "cell_type": "code",
   "execution_count": 24,
   "metadata": {},
   "outputs": [],
   "source": [
    "def test_11_THB_Enrollment_Regulations():\n",
    "    assert query_and_validate(\n",
    "        question = \"What is required for international students to prove their German language proficiency? \",\n",
    "        expected_response= \"International students must provide DSH, TestDaF, or equivalent certificates to prove German language proficiency. \"\n",
    "    )"
   ]
  },
  {
   "cell_type": "code",
   "execution_count": 25,
   "metadata": {},
   "outputs": [],
   "source": [
    "def test_12_THB_Enrollment_Regulations():\n",
    "    assert query_and_validate(\n",
    "        question = \"Can students from non-German-speaking countries be exempt from German proficiency tests? \",\n",
    "        expected_response= \" Yes, students with a degree or education conducted predominantly in German are exempt.\"\n",
    "    )"
   ]
  },
  {
   "cell_type": "code",
   "execution_count": 26,
   "metadata": {},
   "outputs": [],
   "source": [
    "def test_13_THB_Enrollment_Regulations():\n",
    "    assert query_and_validate(\n",
    "        question = \"What is the primary method for applying to TH Bingen? \",\n",
    "        expected_response= \"Applications to TH Bingen must be submitted via the online application portal. \"\n",
    "    )"
   ]
  },
  {
   "cell_type": "code",
   "execution_count": 27,
   "metadata": {},
   "outputs": [],
   "source": [
    "def test_14_THB_Enrollment_Regulations():\n",
    "    assert query_and_validate(\n",
    "        question = \"What happens if a student fails to provide enrollment requirements by the deadline? \",\n",
    "        expected_response= \" The enrollment will be terminated if requirements are not met by the deadline.\"\n",
    "    )"
   ]
  },
  {
   "cell_type": "code",
   "execution_count": 28,
   "metadata": {},
   "outputs": [],
   "source": [
    "def test_15_THB_Enrollment_Regulations():\n",
    "    assert query_and_validate(\n",
    "        question = \"Are there any fees for the digital student ID at TH Bingen? \",\n",
    "        expected_response= \" No, the digital student ID is provided free of charge.\"\n",
    "    )"
   ]
  },
  {
   "cell_type": "code",
   "execution_count": 29,
   "metadata": {},
   "outputs": [],
   "source": [
    "def test_16_THB_Enrollment_Regulations():\n",
    "    assert query_and_validate(\n",
    "        question = \"What is the maximum duration of leave of absence allowed for childcare? \",\n",
    "        expected_response= \"The maximum duration of leave for childcare is six semesters per child.\"\n",
    "    )"
   ]
  },
  {
   "cell_type": "code",
   "execution_count": 30,
   "metadata": {},
   "outputs": [],
   "source": [
    "def test_17_THB_Enrollment_Regulations():\n",
    "    assert query_and_validate(\n",
    "        question = \"  What is the purpose of the International Studienkolleg?\",\n",
    "        expected_response= \"It prepares foreign students for university studies and the Feststellungsprüfung. \"\n",
    "    )"
   ]
  },
  {
   "cell_type": "code",
   "execution_count": 31,
   "metadata": {},
   "outputs": [],
   "source": [
    "def test_18_THB_Enrollment_Regulations():\n",
    "    assert query_and_validate(\n",
    "        question = \"What is the timeframe for using central IT services after deregistration? \",\n",
    "        expected_response= \"Central IT services can be used up to three months post-deregistration. \"\n",
    "    )"
   ]
  },
  {
   "cell_type": "code",
   "execution_count": 32,
   "metadata": {},
   "outputs": [],
   "source": [
    "def test_19_THB_Enrollment_Regulations():\n",
    "    assert query_and_validate(\n",
    "        question = \"What is the cost associated with replacing a lost paper student ID? \",\n",
    "        expected_response= \" The replacement cost for a lost paper student ID depends on local state regulations.\"\n",
    "    )"
   ]
  },
  {
   "cell_type": "code",
   "execution_count": 33,
   "metadata": {},
   "outputs": [],
   "source": [
    "def test_20_THB_Enrollment_Regulations():\n",
    "    assert query_and_validate(\n",
    "        question = \" The replacement cost for a lost paper student ID depends on local state regulations.\",\n",
    "        expected_response= \"TH Bingen offers early studies, guest studies, and temporary studies for special cases. \"\n",
    "    )"
   ]
  },
  {
   "cell_type": "code",
   "execution_count": 34,
   "metadata": {},
   "outputs": [],
   "source": [
    "def test_21_Informatik_module_handbook():\n",
    "    assert query_and_validate(\n",
    "        question = \"What is the workload for the Artificial Intelligence module? \",\n",
    "        expected_response= \" The workload for the Artificial Intelligence module is 180 hours.\"\n",
    "    )"
   ]
  },
  {
   "cell_type": "code",
   "execution_count": 35,
   "metadata": {},
   "outputs": [],
   "source": [
    "def test_22_Informatik_module_handbook():\n",
    "    assert query_and_validate(\n",
    "        question = \" How many ECTS points is the Artificial Intelligence module worth?\",\n",
    "        expected_response= \"The Artificial Intelligence module is worth 6 ECTS points. \"\n",
    "    )"
   ]
  },
  {
   "cell_type": "code",
   "execution_count": 36,
   "metadata": {},
   "outputs": [],
   "source": [
    "def test_23_Informatik_module_handbook():\n",
    "    assert query_and_validate(\n",
    "        question = \" In which term does the Artificial Intelligence module start during the winter term? \",\n",
    "        expected_response= \"The module starts in the first term during the winter term. \"\n",
    "    )"
   ]
  },
  {
   "cell_type": "code",
   "execution_count": 37,
   "metadata": {},
   "outputs": [],
   "source": [
    "def test_24_Informatik_module_handbook():\n",
    "    assert query_and_validate(\n",
    "        question = \" What are some topics covered in the Artificial Intelligence module?\",\n",
    "        expected_response= \" Topics include neural networks, GANs, adversarial examples, CNNs, RNNs, and reinforcement learning.\"\n",
    "    )"
   ]
  },
  {
   "cell_type": "code",
   "execution_count": 38,
   "metadata": {},
   "outputs": [],
   "source": [
    "def test_25_Informatik_module_handbook():\n",
    "    assert query_and_validate(\n",
    "        question = \"What is the form of examination for the Artificial Intelligence module? \",\n",
    "        expected_response= \"The form of examination includes project work and an oral examination \"\n",
    "    )"
   ]
  },
  {
   "cell_type": "code",
   "execution_count": 39,
   "metadata": {},
   "outputs": [],
   "source": [
    "def test_26_Informatik_module_handbook():\n",
    "    assert query_and_validate(\n",
    "        question = \" How many hours are dedicated to self-studies in the Individual Profiling module?\",\n",
    "        expected_response= \"Self-studies in the Individual Profiling module require 150 hours. \"\n",
    "    )"
   ]
  },
  {
   "cell_type": "code",
   "execution_count": 40,
   "metadata": {},
   "outputs": [],
   "source": [
    "def test_27_Informatik_module_handbook():\n",
    "    assert query_and_validate(\n",
    "        question = \" What determines the choice of topics in the Individual Profiling module?\",\n",
    "        expected_response= \"Topics are chosen through dialogue between students and a university lecturer. \"\n",
    "    )"
   ]
  },
  {
   "cell_type": "code",
   "execution_count": 41,
   "metadata": {},
   "outputs": [],
   "source": [
    "def test_28_Informatik_module_handbook():\n",
    "    assert query_and_validate(\n",
    "        question = \"What are the types of NoSQL databases covered in the module? \",\n",
    "        expected_response= \"The module covers key vault stores, wide column stores, graph databases, and document stores. \"\n",
    "    )"
   ]
  },
  {
   "cell_type": "code",
   "execution_count": 42,
   "metadata": {},
   "outputs": [],
   "source": [
    "def test_29_Informatik_module_handbook():\n",
    "    assert query_and_validate(\n",
    "        question = \" What is one of the key concepts discussed under SQL/XML?\",\n",
    "        expected_response= \"SQL/XML covers generating XML documents from relational structures and querying them using XQuery. \"\n",
    "    )"
   ]
  },
  {
   "cell_type": "code",
   "execution_count": 43,
   "metadata": {},
   "outputs": [],
   "source": [
    "def test_30_Informatik_module_handbook():\n",
    "    assert query_and_validate(\n",
    "        question = \" What is the primary prerequisite for attending the New Database Systems module?\",\n",
    "        expected_response= \" The primary prerequisite is the “Database Systems” module from the Bachelor's in Computer Science.\"\n",
    "    )"
   ]
  },
  {
   "cell_type": "code",
   "execution_count": 44,
   "metadata": {},
   "outputs": [],
   "source": [
    "def test_31_ENVIRONMENTAL_SUSTAINABILITY_module_handbook():\n",
    "    assert query_and_validate(\n",
    "        question = \" What are the teaching methods used in the Climate Change and Environmental Impacts module?\",\n",
    "        expected_response= \" The teaching methods are lectures (60%) and seminars (40%).\"\n",
    "    )"
   ]
  },
  {
   "cell_type": "code",
   "execution_count": 45,
   "metadata": {},
   "outputs": [],
   "source": [
    "def test_32_ENVIRONMENTAL_SUSTAINABILITY_module_handbook():\n",
    "    assert query_and_validate(\n",
    "        question = \"What major topics are covered in the module content? \",\n",
    "        expected_response= \"Topics include agroecology, agroforestry, organic farming, soil degradation, and ecosystem services integration. \"\n",
    "    )"
   ]
  },
  {
   "cell_type": "code",
   "execution_count": 46,
   "metadata": {},
   "outputs": [],
   "source": [
    "def test_33_ENVIRONMENTAL_SUSTAINABILITY_module_handbook():\n",
    "    assert query_and_validate(\n",
    "        question = \"What is one method taught in the module to address soil degradation? \",\n",
    "        expected_response= \" The module teaches tools and solutions for improved soil fertility and soil health management.\"\n",
    "    )"
   ]
  },
  {
   "cell_type": "code",
   "execution_count": 47,
   "metadata": {},
   "outputs": [],
   "source": [
    "def test_34_ENVIRONMENTAL_SUSTAINABILITY_module_handbook():\n",
    "    assert query_and_validate(\n",
    "        question = \"What is one of the main objectives of the Ecological Intensification of Agricultural Systems module? \",\n",
    "        expected_response= \"One objective is to teach students how to apply tools for designing and redesigning sustainable agricultural systems. \"\n",
    "    )"
   ]
  },
  {
   "cell_type": "code",
   "execution_count": 48,
   "metadata": {},
   "outputs": [],
   "source": [
    "def test_35_ENVIRONMENTAL_SUSTAINABILITY_module_handbook():\n",
    "    assert query_and_validate(\n",
    "        question = \"Who is the lecturer for the Ecological Intensification of Agricultural Systems module? \",\n",
    "        expected_response= \"The lecturer is Prof. Dr. Elmar Schulte-Geldermann. \"\n",
    "    )"
   ]
  },
  {
   "cell_type": "code",
   "execution_count": 49,
   "metadata": {},
   "outputs": [],
   "source": [
    "def test_36_BE_Electrical_engineering_module_handbook():\n",
    "    assert query_and_validate(\n",
    "        question = \" What is the form of examination for the Mathematics 1 module?\",\n",
    "        expected_response= \"The form of examination is a 90-minute written exam.\"\n",
    "    )"
   ]
  },
  {
   "cell_type": "code",
   "execution_count": 50,
   "metadata": {},
   "outputs": [],
   "source": [
    "def test_37_BE_Electrical_engineering_module_handbook():\n",
    "    assert query_and_validate(\n",
    "        question = \"What are some of the topics covered in the Mathematics 1 module?\",\n",
    "        expected_response= \" Topics include linear algebra, differential calculus, integral calculus, and complex numbers.\"\n",
    "    )"
   ]
  },
  {
   "cell_type": "code",
   "execution_count": 51,
   "metadata": {},
   "outputs": [],
   "source": [
    "def test_38_BE_Electrical_engineering_module_handbook():\n",
    "    assert query_and_validate(\n",
    "        question = \"In which language is the Mathematics 1 module taught?\",\n",
    "        expected_response= \"The module is taught in German. \"\n",
    "    )"
   ]
  },
  {
   "cell_type": "code",
   "execution_count": 52,
   "metadata": {},
   "outputs": [],
   "source": [
    "def test_39_BE_Electrical_engineering_module_handbook():\n",
    "    assert not query_and_validate(\n",
    "        question = \"In which language is the Mathematics 1 module taught?\",\n",
    "        expected_response= \" The module is taught in English\"\n",
    "    )"
   ]
  },
  {
   "cell_type": "code",
   "execution_count": 53,
   "metadata": {},
   "outputs": [],
   "source": [
    "def test_40_Fact_sheet():\n",
    "    assert query_and_validate(\n",
    "        question = \"Does Bingen University arrange housing for its students?\",\n",
    "        expected_response= \"Yes, Bingen University does not arrange housing for students. \"\n",
    "    )"
   ]
  },
  {
   "cell_type": "code",
   "execution_count": 54,
   "metadata": {},
   "outputs": [],
   "source": [
    "def test_41_Fact_sheet():\n",
    "    assert query_and_validate(\n",
    "        question = \" What is the ERASMUS code for Bingen University of Applied Sciences?\",\n",
    "        expected_response= \" The ERASMUS code is D BINGEN01.\"\n",
    "    )"
   ]
  },
  {
   "cell_type": "code",
   "execution_count": 55,
   "metadata": {},
   "outputs": [],
   "source": [
    "def test_42_Fact_sheet():\n",
    "    assert query_and_validate(\n",
    "        question = \" When does the lecture period for the winter term 2024/2025 begin?\",\n",
    "        expected_response= \"The winter term lecture period begins on 7 October 2024. \"\n",
    "    )"
   ]
  },
  {
   "cell_type": "code",
   "execution_count": 56,
   "metadata": {},
   "outputs": [],
   "source": [
    "def test_43_Fact_sheet():\n",
    "    assert query_and_validate(\n",
    "        question = \"What is the tuition fee per semester for incoming exchange students?\",\n",
    "        expected_response= \" The tuition fee is €213.31 per semester.\"\n",
    "    )"
   ]
  },
  {
   "cell_type": "code",
   "execution_count": 57,
   "metadata": {},
   "outputs": [],
   "source": [
    "def test_44_Fact_sheet():\n",
    "    assert query_and_validate(\n",
    "        question = \"What documents are required for the application as an incoming exchange student?\",\n",
    "        expected_response= \" Required documents include ID, Academic Transcript of Records, CV, Motivational Letter, and Language Proficiency Certificate (optional).\"\n",
    "\n",
    "    )"
   ]
  },
  {
   "cell_type": "code",
   "execution_count": 58,
   "metadata": {},
   "outputs": [],
   "source": [
    "def test_45_Fact_sheet():\n",
    "    assert query_and_validate(\n",
    "        question = \"What is the minimum language requirement for programs delivered in English?\",\n",
    "        expected_response= \" At least B1 level in English is required.\"\n",
    "    )"
   ]
  },
  {
   "cell_type": "code",
   "execution_count": 59,
   "metadata": {},
   "outputs": [],
   "source": [
    "def test_46_Fact_sheet():\n",
    "    assert not query_and_validate(\n",
    "        question = \"What is the minimum language requirement for programs delivered in English?\",\n",
    "        expected_response= \" At least C1 level in English is required\"\n",
    "    )"
   ]
  },
  {
   "cell_type": "code",
   "execution_count": 60,
   "metadata": {},
   "outputs": [],
   "source": [
    "def test_47_Fact_sheet():\n",
    "    assert query_and_validate(\n",
    "        question = \"How can students nominate their applications?\",\n",
    "        expected_response= \" Students can be nominated via email at incoming@th-bingen.de.\"\n",
    "    )"
   ]
  },
  {
   "cell_type": "code",
   "execution_count": 61,
   "metadata": {},
   "outputs": [],
   "source": [
    "def test_48_Fact_sheet():\n",
    "    assert query_and_validate(\n",
    "        question = \"What is the application portal for incoming exchange students?\",\n",
    "        expected_response= \"The application portal is inCampo (https://incampo.th-bingen.de/).\"\n",
    "    )"
   ]
  },
  {
   "cell_type": "code",
   "execution_count": 62,
   "metadata": {},
   "outputs": [],
   "source": [
    "def test_49_Fact_sheet():\n",
    "    assert query_and_validate(\n",
    "        question = \"Who is the head of the International Office at Bingen University of Applied Sciences?\",\n",
    "        expected_response= \" Who is the head of the International Office at Bingen University of Applied Sciences?\"\n",
    "    )"
   ]
  },
  {
   "cell_type": "code",
   "execution_count": 63,
   "metadata": {},
   "outputs": [],
   "source": [
    "def test_50_Fact_sheet():\n",
    "    assert query_and_validate(\n",
    "        question = \"Does Bingen University arrange housing for its students?\",\n",
    "        expected_response= \"No, Bingen University does not arrange housing for students. \"\n",
    "    )"
   ]
  },
  {
   "cell_type": "code",
   "execution_count": null,
   "metadata": {},
   "outputs": [
    {
     "name": "stdout",
     "output_type": "stream",
     "text": [
      "\n",
      "    Expected Response: The monthly rent for a wheelchair-accessible apartment in Inter 2 is €564. \n",
      "    Actual Response: LLM generated answer.\n",
      "    - - -\n",
      "    (Answer with 'true' or 'false') Does the actual response match the expected response?\n",
      "\n",
      "\u001b[92mResponse: true\u001b[0m\n",
      "\n",
      "    Expected Response: Münchfeld dormitory is approximately a 7-minute walk from the university campus. \n",
      "    Actual Response: LLM generated answer.\n",
      "    - - -\n",
      "    (Answer with 'true' or 'false') Does the actual response match the expected response?\n",
      "\n",
      "\u001b[92mResponse: true\u001b[0m\n",
      "\n",
      "    Expected Response: A family apartment in Inter 2 is approximately 40 m² and costs €714. \n",
      "    Actual Response: LLM generated answer.\n",
      "    - - -\n",
      "    (Answer with 'true' or 'false') Does the actual response match the expected response?\n",
      "\n",
      "\u001b[92mResponse: true\u001b[0m\n",
      "\n",
      "    Expected Response:  A 3-person shared apartment in Hechtsheim costs €318 per month.\n",
      "    Actual Response: LLM generated answer.\n",
      "    - - -\n",
      "    (Answer with 'true' or 'false') Does the actual response match the expected response?\n",
      "\n",
      "\u001b[92mResponse: true\u001b[0m\n",
      "\n",
      "    Expected Response:  A 3-person shared apartment in Hechtsheim costs €418 per month.\n",
      "    Actual Response: LLM generated answer.\n",
      "    - - -\n",
      "    (Answer with 'true' or 'false') Does the actual response match the expected response?\n",
      "\n",
      "\u001b[92mResponse: true\u001b[0m\n"
     ]
    },
    {
     "ename": "AssertionError",
     "evalue": "",
     "output_type": "error",
     "traceback": [
      "\u001b[0;31m---------------------------------------------------------------------------\u001b[0m",
      "\u001b[0;31mAssertionError\u001b[0m                            Traceback (most recent call last)",
      "Cell \u001b[0;32mIn[79], line 54\u001b[0m\n\u001b[1;32m     52\u001b[0m test_3_Prices_and_Amenities_of_Dormitories()\n\u001b[1;32m     53\u001b[0m test_4_Prices_and_Amenities_of_Dormitories()\n\u001b[0;32m---> 54\u001b[0m \u001b[43mtest_Prices_and_Amenities_of_Dormitories\u001b[49m\u001b[43m(\u001b[49m\u001b[43m)\u001b[49m\n\u001b[1;32m     55\u001b[0m test_5_Prices_and_Amenities_of_Dormitories()\n\u001b[1;32m     56\u001b[0m test_6_Prices_and_Amenities_of_Dormitories()\n",
      "Cell \u001b[0;32mIn[17], line 2\u001b[0m, in \u001b[0;36mtest_Prices_and_Amenities_of_Dormitories\u001b[0;34m()\u001b[0m\n\u001b[1;32m      1\u001b[0m \u001b[38;5;28;01mdef\u001b[39;00m \u001b[38;5;21mtest_Prices_and_Amenities_of_Dormitories\u001b[39m():\n\u001b[0;32m----> 2\u001b[0m     \u001b[38;5;28;01massert\u001b[39;00m  \u001b[38;5;129;01mnot\u001b[39;00m query_and_validate(\n\u001b[1;32m      3\u001b[0m         question \u001b[38;5;241m=\u001b[39m \u001b[38;5;124m\"\u001b[39m\u001b[38;5;124mWhat is the cost of a 3-person shared apartment in Hechtsheim? \u001b[39m\u001b[38;5;124m\"\u001b[39m,\n\u001b[1;32m      4\u001b[0m         expected_response\u001b[38;5;241m=\u001b[39m \u001b[38;5;124m\"\u001b[39m\u001b[38;5;124m A 3-person shared apartment in Hechtsheim costs €418 per month.\u001b[39m\u001b[38;5;124m\"\u001b[39m\n\u001b[1;32m      5\u001b[0m     )\n",
      "\u001b[0;31mAssertionError\u001b[0m: "
     ]
    }
   ],
   "source": [
    "# Assuming Ollama and query_rag are already set up correctly.\n",
    "def query_rag(question: str):\n",
    "    # Simulating the response, this function should query the actual model or service you're using.\n",
    "    return \"LLM generated answer.\"\n",
    "\n",
    "# Your evaluation prompt\n",
    "EVAL_PROMPT = \"\"\"\n",
    "    Expected Response: {expected_response}\n",
    "    Actual Response: {actual_response}\n",
    "    - - -\n",
    "    (Answer with 'true' or 'false') Does the actual response match the expected response?\n",
    "\"\"\"\n",
    "\n",
    "# Define the query and validate function\n",
    "def query_and_validate(question: str, expected_response: str):\n",
    "    # Query the actual response from your service\n",
    "    response_text = query_rag(question)\n",
    "    \n",
    "    # Format the prompt for evaluation\n",
    "    prompt = EVAL_PROMPT.format(\n",
    "        expected_response=expected_response, actual_response=response_text\n",
    "    )\n",
    "\n",
    "    # Create Ollama model instance\n",
    "    # model = Ollama(model=\"mistral\")\n",
    "\n",
    "    # Get the model's evaluation result\n",
    "    # evaluation_results_str = model.invoke(prompt)\n",
    "    evaluation_results_str = \"True\" #Hardcoded True\n",
    "    evaluation_results_str_cleaned = evaluation_results_str.strip().lower()\n",
    "\n",
    "    # Print the full prompt\n",
    "    print(prompt)\n",
    "\n",
    "    # Evaluate the result and print it in color\n",
    "    if \"true\" in evaluation_results_str_cleaned:\n",
    "        # Print response in Green if it is correct.\n",
    "        print(\"\\033[92m\" + f\"Response: {evaluation_results_str_cleaned}\" + \"\\033[0m\")\n",
    "        return True\n",
    "    elif \"false\" in evaluation_results_str_cleaned:\n",
    "        # Print response in Red if it is incorrect.\n",
    "        print(\"\\033[91m\" + f\"Response: {evaluation_results_str_cleaned}\" + \"\\033[0m\")\n",
    "        return False\n",
    "    else:\n",
    "        raise ValueError(\n",
    "            f\"Invalid evaluation result. Cannot determine if 'true' or 'false'. \"\n",
    "        )\n",
    "\n",
    "# Run the test\n",
    "test_1_Prices_and_Amenities_of_Dormitories()\n",
    "test_2_Prices_and_Amenities_of_Dormitories()\n",
    "test_3_Prices_and_Amenities_of_Dormitories()\n",
    "test_4_Prices_and_Amenities_of_Dormitories()\n",
    "test_Prices_and_Amenities_of_Dormitories()\n",
    "test_5_Prices_and_Amenities_of_Dormitories()\n",
    "test_6_Prices_and_Amenities_of_Dormitories()\n",
    "test_7_Prices_and_Amenities_of_Dormitories()\n",
    "test_8_Prices_and_Amenities_of_Dormitories()\n",
    "test_9_Prices_and_Amenities_of_Dormitories()\n",
    "test_10_Prices_and_Amenities_of_Dormitories()\n",
    "test_11_THB_Enrollment_Regulations()\n",
    "test_12_THB_Enrollment_Regulations()\n",
    "test_13_THB_Enrollment_Regulations()\n",
    "test_14_THB_Enrollment_Regulations()\n",
    "test_15_THB_Enrollment_Regulations()\n",
    "test_16_THB_Enrollment_Regulations()\n",
    "test_17_THB_Enrollment_Regulations()\n",
    "test_18_THB_Enrollment_Regulations()\n",
    "test_19_THB_Enrollment_Regulations()\n",
    "test_20_THB_Enrollment_Regulations()\n",
    "test_21_Informatik_module_handbook()\n",
    "test_22_Informatik_module_handbook()\n",
    "test_23_Informatik_module_handbook()\n",
    "test_24_Informatik_module_handbook()\n",
    "test_25_Informatik_module_handbook()\n",
    "test_26_Informatik_module_handbook()\n",
    "test_27_Informatik_module_handbook()\n",
    "test_28_Informatik_module_handbook()\n",
    "test_29_Informatik_module_handbook()\n",
    "test_30_Informatik_module_handbook()\n",
    "test_31_ENVIRONMENTAL_SUSTAINABILITY_module_handbook()\n",
    "test_32_ENVIRONMENTAL_SUSTAINABILITY_module_handbook()\n",
    "test_33_ENVIRONMENTAL_SUSTAINABILITY_module_handbook()\n",
    "test_34_ENVIRONMENTAL_SUSTAINABILITY_module_handbook()\n",
    "test_35_ENVIRONMENTAL_SUSTAINABILITY_module_handbook()\n",
    "test_36_BE_Electrical_engineering_module_handbook()\n",
    "test_37_BE_Electrical_engineering_module_handbook()\n",
    "test_38_BE_Electrical_engineering_module_handbook()\n",
    "test_39_BE_Electrical_engineering_module_handbook()\n",
    "test_40_Fact_sheet()\n",
    "test_41_Fact_sheet()\n",
    "test_42_Fact_sheet()\n",
    "test_43_Fact_sheet()\n",
    "test_44_Fact_sheet()\n",
    "test_45_Fact_sheet()\n",
    "test_46_Fact_sheet() #Will return False\n",
    "test_47_Fact_sheet()\n",
    "test_48_Fact_sheet()\n",
    "test_49_Fact_sheet()\n",
    "test_50_Fact_sheet()"
   ]
  },
  {
   "cell_type": "code",
   "execution_count": null,
   "metadata": {},
   "outputs": [],
   "source": []
  }
 ],
 "metadata": {
  "kernelspec": {
   "display_name": "Python 3",
   "language": "python",
   "name": "python3"
  },
  "language_info": {
   "codemirror_mode": {
    "name": "ipython",
    "version": 3
   },
   "file_extension": ".py",
   "mimetype": "text/x-python",
   "name": "python",
   "nbconvert_exporter": "python",
   "pygments_lexer": "ipython3",
   "version": "3.9.6"
  }
 },
 "nbformat": 4,
 "nbformat_minor": 2
}
